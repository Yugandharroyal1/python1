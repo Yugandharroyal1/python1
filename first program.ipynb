{
 "cells": [
  {
   "cell_type": "code",
   "execution_count": 5,
   "id": "fd017fe8",
   "metadata": {},
   "outputs": [
    {
     "name": "stdout",
     "output_type": "stream",
     "text": [
      "enter any number5\n",
      "it is not a even\n"
     ]
    }
   ],
   "source": [
    "num = int(input(\"enter any number\"))\n",
    "if num%2 == 0:\n",
    "    print(\"it is even\")\n",
    "else:\n",
    "    print(\"it is not a even\")"
   ]
  },
  {
   "cell_type": "code",
   "execution_count": 2,
   "id": "cd7a99f8",
   "metadata": {},
   "outputs": [
    {
     "name": "stdout",
     "output_type": "stream",
     "text": [
      "enter any number9\n",
      "9\n"
     ]
    }
   ],
   "source": [
    "x = input(\"enter any number\")\n",
    "print(x)"
   ]
  },
  {
   "cell_type": "code",
   "execution_count": 11,
   "id": "74bffc64",
   "metadata": {},
   "outputs": [
    {
     "name": "stdout",
     "output_type": "stream",
     "text": [
      "enter  any number9\n",
      "factorial of  9 is 362880\n"
     ]
    }
   ],
   "source": [
    "num = int(input(\"enter  any number\"))\n",
    "result = 1\n",
    "for i in range (num,0,-1):\n",
    "    result = i * result\n",
    "print(\"factorial of \",num,\"is\",result)"
   ]
  },
  {
   "cell_type": "code",
   "execution_count": null,
   "id": "84ec6173",
   "metadata": {},
   "outputs": [],
   "source": []
  }
 ],
 "metadata": {
  "kernelspec": {
   "display_name": "Python 3 (ipykernel)",
   "language": "python",
   "name": "python3"
  },
  "language_info": {
   "codemirror_mode": {
    "name": "ipython",
    "version": 3
   },
   "file_extension": ".py",
   "mimetype": "text/x-python",
   "name": "python",
   "nbconvert_exporter": "python",
   "pygments_lexer": "ipython3",
   "version": "3.9.7"
  }
 },
 "nbformat": 4,
 "nbformat_minor": 5
}
